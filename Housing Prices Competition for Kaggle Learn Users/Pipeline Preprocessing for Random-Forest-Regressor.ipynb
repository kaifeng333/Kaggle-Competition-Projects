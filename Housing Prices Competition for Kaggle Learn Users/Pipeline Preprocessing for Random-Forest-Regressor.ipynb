{
 "cells": [
  {
   "cell_type": "code",
   "execution_count": null,
   "id": "77e06b51",
   "metadata": {},
   "outputs": [],
   "source": [
    "import numpy as np\n",
    "import pandas as pd\n",
    "from sklearn.metrics import mean_absolute_error\n",
    "from sklearn.preprocessing import OneHotEncoder\n",
    "from sklearn.preprocessing import OrdinalEncoder\n",
    "from sklearn.impute import SimpleImputer\n",
    "from sklearn.model_selection import train_test_split\n",
    "from sklearn.ensemble import RandomForestRegressor\n",
    "from sklearn.compose import ColumnTransformer\n",
    "from sklearn.pipeline import Pipeline,make_pipeline\n",
    "from sklearn.model_selection import cross_val_score\n",
    "from scipy import stats\n",
    "from mlxtend.preprocessing import minmax_scaling\n",
    "import matplotlib.pyplot as plt"
   ]
  },
  {
   "cell_type": "code",
   "execution_count": null,
   "id": "bef01fb9",
   "metadata": {},
   "outputs": [],
   "source": [
    "train_full = pd.read_csv('train.csv',index_col = 'Id')\n",
    "test_full = pd.read_csv('test.csv',index_col = 'Id')\n",
    "print('train_full size',train_full.shape)\n",
    "print('test_full size',test_full.shape)\n",
    "train_full.head()"
   ]
  },
  {
   "cell_type": "code",
   "execution_count": null,
   "id": "dee1714e",
   "metadata": {},
   "outputs": [],
   "source": [
    "train_full.describe()"
   ]
  },
  {
   "cell_type": "code",
   "execution_count": null,
   "id": "953ed5eb",
   "metadata": {},
   "outputs": [],
   "source": [
    "##check if NaN values in the response, if yes, drop NaN values\n",
    "train_full.dropna(axis = 0,subset = ['SalePrice'],inplace = True)\n",
    "y_train = train_full.SalePrice\n",
    "X_train_full = train_full.drop(['SalePrice'],axis = 1)\n",
    "\n",
    "##do the same thing for test set\n",
    "X_test = test_full"
   ]
  },
  {
   "cell_type": "code",
   "execution_count": null,
   "id": "b981b4ef",
   "metadata": {},
   "outputs": [],
   "source": [
    "col_category = [col for col in X_train_full.columns\n",
    "              if X_train_full[col].dtypes == 'O']\n",
    "print('categorical columns : \\n',len(col_category))\n",
    "col_numeric = [col for col in X_train_full.columns\n",
    "              if X_train_full[col].dtypes in ['int64','float64']]\n",
    "print('numeric columns: \\n',len(col_numeric))\n",
    "\n",
    "##total number of columns in the final training set\n",
    "col_to_keep = col_category + col_numeric"
   ]
  },
  {
   "cell_type": "code",
   "execution_count": null,
   "id": "c2e1debb",
   "metadata": {},
   "outputs": [],
   "source": [
    "##split training set and validation set\n",
    "X_train,X_valid,y_train,y_valid = train_test_split(X_train_full,y_train,train_size = 0.8,test_size= 0.2,random_state = 0)"
   ]
  },
  {
   "cell_type": "code",
   "execution_count": null,
   "id": "4ede6b39",
   "metadata": {},
   "outputs": [],
   "source": [
    "X_train_numeric = X_train[col_numeric]\n",
    "X_valid_numeric = X_valid[col_numeric]\n",
    "X_test_numeric = X_test[col_numeric]"
   ]
  },
  {
   "cell_type": "code",
   "execution_count": null,
   "id": "42b3202b",
   "metadata": {},
   "outputs": [],
   "source": [
    "##categorical variables: find good features and bad features\n",
    "##get categorical columns of trainset and valid set\n",
    "X_train_category = X_train[col_category]\n",
    "X_valid_category = X_valid[col_category]\n",
    "X_test_category = X_test[col_category]\n",
    "##find columns with good features and columns with bad features\n",
    "##check if all faetures of valid set is consistent with all features of training set\n",
    "good_col_category = [col for col in col_category if \n",
    "                   set(X_valid_category[col]).issubset(set(X_train_category[col]))]\n",
    "bad_col_category = list(set(col_category)-set(good_col_category))"
   ]
  },
  {
   "cell_type": "code",
   "execution_count": null,
   "id": "201c2ed9",
   "metadata": {},
   "outputs": [],
   "source": [
    "print(len(good_col_category))\n",
    "print(len(bad_col_category))\n",
    "bad_col_category"
   ]
  },
  {
   "cell_type": "code",
   "execution_count": null,
   "id": "1768e776",
   "metadata": {},
   "outputs": [],
   "source": [
    "##remove bad features for prediction\n",
    "X_train_category = X_train_category.drop(bad_col_category,axis = 1)\n",
    "X_valid_category = X_valid_category.drop(bad_col_category,axis = 1)\n",
    "X_test_category = X_test_category.drop(bad_col_category,axis = 1)"
   ]
  },
  {
   "cell_type": "code",
   "execution_count": null,
   "id": "f6004309",
   "metadata": {},
   "outputs": [],
   "source": [
    "good2_col_category = [col for col in good_col_category if \n",
    "                   set(X_test_category[col]).issubset(set(X_train_category[col]))]\n",
    "bad2_col_category = list(set(good_col_category)-set(good2_col_category))"
   ]
  },
  {
   "cell_type": "code",
   "execution_count": null,
   "id": "e472c595",
   "metadata": {},
   "outputs": [],
   "source": [
    "print(len(good2_col_category))\n",
    "print(len(bad2_col_category))\n",
    "bad2_col_category"
   ]
  },
  {
   "cell_type": "code",
   "execution_count": null,
   "id": "b65e2d0e",
   "metadata": {},
   "outputs": [],
   "source": [
    "##remove bad features for prediction\n",
    "X_train_category = X_train_category.drop(bad2_col_category,axis = 1)\n",
    "X_valid_category = X_valid_category.drop(bad2_col_category,axis = 1)\n",
    "X_test_category = X_test_category.drop(bad2_col_category,axis = 1)"
   ]
  },
  {
   "cell_type": "code",
   "execution_count": null,
   "id": "4928b513",
   "metadata": {},
   "outputs": [],
   "source": [
    "print(X_train_category.shape)\n",
    "print(X_valid_category.shape)\n",
    "print(X_test_category.shape)\n",
    "print(len(good2_col_category)+len(col_numeric))"
   ]
  },
  {
   "cell_type": "code",
   "execution_count": null,
   "id": "ed304699",
   "metadata": {},
   "outputs": [],
   "source": [
    "##combine category adn numeric\n",
    "X_train_model = pd.concat([X_train_numeric,X_train_category],axis = 1)\n",
    "X_valid_model = pd.concat([X_valid_numeric,X_valid_category],axis = 1)\n",
    "X_test_model = pd.concat([X_test_numeric,X_test_category],axis = 1)\n",
    "X_full_model = pd.concat([X_train_model,X_valid_model],axis = 0)\n",
    "y_full_model = y_train.append(y_valid)"
   ]
  },
  {
   "cell_type": "markdown",
   "id": "94448454",
   "metadata": {},
   "source": [
    "# Pipeline for random forest"
   ]
  },
  {
   "cell_type": "code",
   "execution_count": null,
   "id": "61c61dd6",
   "metadata": {},
   "outputs": [],
   "source": [
    "##now define pre-processing framework\n",
    "numeric_transformer = SimpleImputer(strategy = 'mean')\n",
    "category_transformer = Pipeline(steps = [('imputer',SimpleImputer(strategy = 'most_frequent')),('ordinal',OrdinalEncoder())])\n",
    "pre_processor = ColumnTransformer(transformers = [('num',numeric_transformer,col_numeric),\n",
    "                                                  ('cat',category_transformer,good2_col_category)])\n",
    "\n",
    "##define model\n",
    "model = RandomForestRegressor(n_estimators = 100,random_state = 0)\n",
    "clf = Pipeline(steps = [('preprocessor',pre_processor),('model',model)])\n",
    "clf.fit(X_train_model,y_train)\n",
    "preds_valid = clf.predict(X_valid_model)\n",
    "print('MAE: \\n',mean_absolute_error(preds_valid,y_valid))"
   ]
  },
  {
   "cell_type": "markdown",
   "id": "1b0a40bf",
   "metadata": {},
   "source": [
    "# output: base line model"
   ]
  },
  {
   "cell_type": "code",
   "execution_count": null,
   "id": "66ba9cf2",
   "metadata": {},
   "outputs": [],
   "source": [
    "preds_test = clf.predict(X_test_model)\n",
    "output = pd.DataFrame({'Id': X_test.index,\n",
    "                       'SalePrice': preds_test})\n",
    "output.to_csv('submission.csv', index=False)"
   ]
  },
  {
   "cell_type": "markdown",
   "id": "00bcca8c",
   "metadata": {},
   "source": [
    "# mannually impuating and encoding"
   ]
  },
  {
   "cell_type": "code",
   "execution_count": null,
   "id": "beb07494",
   "metadata": {},
   "outputs": [],
   "source": [
    "##imputation of numerical variables (fill NaN with mean)\n",
    "numeric_imputer = SimpleImputer()\n",
    "X_full_model_numeric_impute = pd.DataFrame(numeric_imputer.fit_transform(X_full_model[col_numeric]))\n",
    "X_full_model_numeric_impute.columns = col_numeric\n",
    "X_full_model_numeric_impute.index = X_full_model.index\n",
    "X_full_model_numeric_impute.head()\n",
    "\n",
    "X_test_model_numeric_impute = pd.DataFrame(numeric_imputer.transform(X_test_model[col_numeric]))\n",
    "X_test_model_numeric_impute.columns = col_numeric\n",
    "X_test_model_numeric_impute.index = X_test_model.index"
   ]
  },
  {
   "cell_type": "code",
   "execution_count": null,
   "id": "2439bee2",
   "metadata": {},
   "outputs": [],
   "source": [
    "##imputation of categorical columns\n",
    "category_imputer = SimpleImputer(strategy = 'most_frequent')\n",
    "X_full_model_category_impute = pd.DataFrame(category_imputer.fit_transform(X_full_model[good2_col_category]))\n",
    "X_full_model_category_impute.columns = good2_col_category\n",
    "X_full_model_category_impute.index = X_full_model.index\n",
    "X_full_model_category_impute.head()\n",
    "\n",
    "X_test_model_category_impute = pd.DataFrame(category_imputer.transform(X_test_model[good2_col_category]))\n",
    "X_test_model_category_impute.columns = good2_col_category\n",
    "X_test_model_category_impute.index = X_test_model.index"
   ]
  },
  {
   "cell_type": "code",
   "execution_count": null,
   "id": "d644cf83",
   "metadata": {},
   "outputs": [],
   "source": [
    "# ## one-hot encoding here\n",
    "# oh_encoder = OneHotEncoder(handle_unknown = 'ignore',sparse = False)\n",
    "# X_full_model_category_impute_oh = pd.DataFrame(oh_encoder.fit_transform(X_full_model_category_impute[good2_col_category]))\n",
    "# X_full_model_category_impute_oh.index = X_full_model_category_impute.index\n",
    "# X_full_model_category_impute_oh.head()\n",
    "\n",
    "# X_test_model_category_impute_oh = pd.DataFrame(oh_encoder.transform(X_test_model_category_impute[good2_col_category]))\n",
    "# X_test_model_category_impute_oh.index = X_test_model_category_impute.index\n",
    "\n",
    "## ordinal encoding is better for Random Forest\n",
    "or_encoder = OrdinalEncoder()\n",
    "X_full_model_category_impute_or = pd.DataFrame(or_encoder.fit_transform(X_full_model_category_impute[good2_col_category]))\n",
    "X_full_model_category_impute_or.index = X_full_model_category_impute.index\n",
    "\n",
    "X_test_model_category_impute_or = pd.DataFrame(or_encoder.fit_transform(X_test_model_category_impute[good2_col_category]))\n",
    "X_test_model_category_impute_or.index = X_test_model_category_impute.index"
   ]
  },
  {
   "cell_type": "code",
   "execution_count": null,
   "id": "25ca799d",
   "metadata": {},
   "outputs": [],
   "source": [
    "##combine imputed and encoded categorical columns and numeric columns (one-hot encoder)\n",
    "# X_full_model_ready = pd.concat([X_full_model_numeric_impute,X_full_model_category_impute_oh],axis = 1)\n",
    "# X_test_model_ready = pd.concat([X_test_model_numeric_impute,X_test_model_category_impute_oh],axis=1)\n",
    "\n",
    "##ordinal encoder\n",
    "X_full_model_ready = pd.concat([X_full_model_numeric_impute,X_full_model_category_impute_or],axis = 1)\n",
    "X_test_model_ready = pd.concat([X_test_model_numeric_impute,X_test_model_category_impute_or],axis=1)"
   ]
  },
  {
   "cell_type": "code",
   "execution_count": null,
   "id": "2cc21153",
   "metadata": {},
   "outputs": [],
   "source": [
    "##fit randomforest\n",
    "rf_model1 = RandomForestRegressor(n_estimators = 2000,random_state=0)\n",
    "rf_model1.fit(X_full_model_ready,y_full_model)\n",
    "np.mean(-1*cross_val_score(rf_model1,X_full_model_ready,y_full_model,cv = 5,scoring = 'neg_mean_absolute_error'))"
   ]
  },
  {
   "cell_type": "code",
   "execution_count": null,
   "id": "ff54519d",
   "metadata": {},
   "outputs": [],
   "source": [
    "##find the optimal number of trees\n",
    "MAE_sen = []\n",
    "num_estimators_sen = np.arange(200,3000,200)\n",
    "for n_estimators in num_estimators_sen:\n",
    "    rf_model1 = RandomForestRegressor(n_estimators = n_estimators,random_state=0,n_jobs = 6)\n",
    "    rf_model1.fit(X_full_model_ready,y_full_model)\n",
    "    MAE_sen.append(np.mean(-1*cross_val_score(rf_model1,X_full_model_ready,y_full_model,\n",
    "                                              cv = 10,scoring = 'neg_mean_absolute_error')))"
   ]
  },
  {
   "cell_type": "code",
   "execution_count": null,
   "id": "561ec7af",
   "metadata": {},
   "outputs": [],
   "source": [
    "plt.plot(num_estimators_sen,MAE_sen)\n",
    "plt.xlabel(r'n_estimators',fontsize = 16)\n",
    "plt.ylabel(r\"MAE\",fontsize = 16)\n",
    "\n",
    "print(MAE_sen)\n",
    "num_estimators_sen[np.argmin(MAE_sen)]\n",
    "MAE_sen[np.argmin(MAE_sen)]\n",
    "##seems n_estimators = 800 is best value"
   ]
  },
  {
   "cell_type": "markdown",
   "id": "a47afc80",
   "metadata": {},
   "source": [
    "# cross validation to optimize number of trees"
   ]
  },
  {
   "cell_type": "code",
   "execution_count": null,
   "id": "c26eb59a",
   "metadata": {},
   "outputs": [],
   "source": [
    "##cross validation\n",
    "def get_score(n_estimators):\n",
    "    model = RandomForestRegressor(n_estimators,random_state = 0)\n",
    "    clf_pipe = Pipeline(steps = [('preprocessor',pre_processor),('model',model)])\n",
    "    scores = -1*cross_val_score(clf_pipe,X_full_model,y_full_model,cv = 5,scoring = 'neg_mean_absolute_error')\n",
    "    return scores.mean()"
   ]
  },
  {
   "cell_type": "markdown",
   "id": "4f5bea60",
   "metadata": {},
   "source": [
    "# to be done: cross_val_score not work for pipeline of randomforest regressor"
   ]
  }
 ],
 "metadata": {
  "kernelspec": {
   "display_name": "Python 3",
   "language": "python",
   "name": "python3"
  },
  "language_info": {
   "codemirror_mode": {
    "name": "ipython",
    "version": 3
   },
   "file_extension": ".py",
   "mimetype": "text/x-python",
   "name": "python",
   "nbconvert_exporter": "python",
   "pygments_lexer": "ipython3",
   "version": "3.8.8"
  }
 },
 "nbformat": 4,
 "nbformat_minor": 5
}
