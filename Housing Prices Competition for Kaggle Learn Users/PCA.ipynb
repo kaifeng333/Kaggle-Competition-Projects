{
 "cells": [
  {
   "cell_type": "code",
   "execution_count": 1,
   "id": "346c990b",
   "metadata": {},
   "outputs": [],
   "source": [
    "import numpy as np\n",
    "import pandas as pd\n",
    "from sklearn.metrics import mean_absolute_error\n",
    "from sklearn.preprocessing import OneHotEncoder\n",
    "from sklearn.preprocessing import OrdinalEncoder\n",
    "from sklearn.impute import SimpleImputer\n",
    "from sklearn.model_selection import train_test_split\n",
    "from sklearn.ensemble import RandomForestRegressor\n",
    "from xgboost import XGBRegressor\n",
    "from mlxtend.preprocessing import minmax_scaling\n",
    "from sklearn.preprocessing import MinMaxScaler\n",
    "from scipy import stats\n",
    "import matplotlib.pyplot as plt\n",
    "from sklearn.decomposition import PCA\n",
    "from sklearn.model_selection import cross_val_score"
   ]
  },
  {
   "cell_type": "code",
   "execution_count": 2,
   "id": "657c9acd",
   "metadata": {},
   "outputs": [],
   "source": [
    "##define a function to plot the PCA\n",
    "def plot_variance(pca, width=8, dpi=100):\n",
    "    # Create figure\n",
    "    fig, axs = plt.subplots(1, 2)\n",
    "    n = pca.n_components_\n",
    "    grid = np.arange(1, n + 1)\n",
    "    # Explained variance\n",
    "    evr = pca.explained_variance_ratio_\n",
    "    axs[0].bar(grid, evr)\n",
    "    axs[0].set(\n",
    "        xlabel=\"Component\", title=\"% Explained Variance\", ylim=(0.0, 1.0)\n",
    "    )\n",
    "    # Cumulative Variance\n",
    "    cv = np.cumsum(evr)\n",
    "    axs[1].plot(np.r_[0, grid], np.r_[0, cv], \"o-\")\n",
    "    axs[1].set(\n",
    "        xlabel=\"Component\", title=\"% Cumulative Variance\", ylim=(0.0, 1.0)\n",
    "    )\n",
    "    # Set up figure\n",
    "    fig.set(figwidth=8, dpi=100)\n",
    "    return axs"
   ]
  },
  {
   "cell_type": "code",
   "execution_count": 3,
   "id": "ab08a2c3",
   "metadata": {},
   "outputs": [
    {
     "name": "stdout",
     "output_type": "stream",
     "text": [
      "train_full size (1460, 80)\n",
      "test_full size (1459, 79)\n"
     ]
    },
    {
     "data": {
      "text/html": [
       "<div>\n",
       "<style scoped>\n",
       "    .dataframe tbody tr th:only-of-type {\n",
       "        vertical-align: middle;\n",
       "    }\n",
       "\n",
       "    .dataframe tbody tr th {\n",
       "        vertical-align: top;\n",
       "    }\n",
       "\n",
       "    .dataframe thead th {\n",
       "        text-align: right;\n",
       "    }\n",
       "</style>\n",
       "<table border=\"1\" class=\"dataframe\">\n",
       "  <thead>\n",
       "    <tr style=\"text-align: right;\">\n",
       "      <th></th>\n",
       "      <th>MSSubClass</th>\n",
       "      <th>MSZoning</th>\n",
       "      <th>LotFrontage</th>\n",
       "      <th>LotArea</th>\n",
       "      <th>Street</th>\n",
       "      <th>Alley</th>\n",
       "      <th>LotShape</th>\n",
       "      <th>LandContour</th>\n",
       "      <th>Utilities</th>\n",
       "      <th>LotConfig</th>\n",
       "      <th>...</th>\n",
       "      <th>PoolArea</th>\n",
       "      <th>PoolQC</th>\n",
       "      <th>Fence</th>\n",
       "      <th>MiscFeature</th>\n",
       "      <th>MiscVal</th>\n",
       "      <th>MoSold</th>\n",
       "      <th>YrSold</th>\n",
       "      <th>SaleType</th>\n",
       "      <th>SaleCondition</th>\n",
       "      <th>SalePrice</th>\n",
       "    </tr>\n",
       "    <tr>\n",
       "      <th>Id</th>\n",
       "      <th></th>\n",
       "      <th></th>\n",
       "      <th></th>\n",
       "      <th></th>\n",
       "      <th></th>\n",
       "      <th></th>\n",
       "      <th></th>\n",
       "      <th></th>\n",
       "      <th></th>\n",
       "      <th></th>\n",
       "      <th></th>\n",
       "      <th></th>\n",
       "      <th></th>\n",
       "      <th></th>\n",
       "      <th></th>\n",
       "      <th></th>\n",
       "      <th></th>\n",
       "      <th></th>\n",
       "      <th></th>\n",
       "      <th></th>\n",
       "      <th></th>\n",
       "    </tr>\n",
       "  </thead>\n",
       "  <tbody>\n",
       "    <tr>\n",
       "      <th>1</th>\n",
       "      <td>60</td>\n",
       "      <td>RL</td>\n",
       "      <td>65.0</td>\n",
       "      <td>8450</td>\n",
       "      <td>Pave</td>\n",
       "      <td>NaN</td>\n",
       "      <td>Reg</td>\n",
       "      <td>Lvl</td>\n",
       "      <td>AllPub</td>\n",
       "      <td>Inside</td>\n",
       "      <td>...</td>\n",
       "      <td>0</td>\n",
       "      <td>NaN</td>\n",
       "      <td>NaN</td>\n",
       "      <td>NaN</td>\n",
       "      <td>0</td>\n",
       "      <td>2</td>\n",
       "      <td>2008</td>\n",
       "      <td>WD</td>\n",
       "      <td>Normal</td>\n",
       "      <td>208500</td>\n",
       "    </tr>\n",
       "    <tr>\n",
       "      <th>2</th>\n",
       "      <td>20</td>\n",
       "      <td>RL</td>\n",
       "      <td>80.0</td>\n",
       "      <td>9600</td>\n",
       "      <td>Pave</td>\n",
       "      <td>NaN</td>\n",
       "      <td>Reg</td>\n",
       "      <td>Lvl</td>\n",
       "      <td>AllPub</td>\n",
       "      <td>FR2</td>\n",
       "      <td>...</td>\n",
       "      <td>0</td>\n",
       "      <td>NaN</td>\n",
       "      <td>NaN</td>\n",
       "      <td>NaN</td>\n",
       "      <td>0</td>\n",
       "      <td>5</td>\n",
       "      <td>2007</td>\n",
       "      <td>WD</td>\n",
       "      <td>Normal</td>\n",
       "      <td>181500</td>\n",
       "    </tr>\n",
       "    <tr>\n",
       "      <th>3</th>\n",
       "      <td>60</td>\n",
       "      <td>RL</td>\n",
       "      <td>68.0</td>\n",
       "      <td>11250</td>\n",
       "      <td>Pave</td>\n",
       "      <td>NaN</td>\n",
       "      <td>IR1</td>\n",
       "      <td>Lvl</td>\n",
       "      <td>AllPub</td>\n",
       "      <td>Inside</td>\n",
       "      <td>...</td>\n",
       "      <td>0</td>\n",
       "      <td>NaN</td>\n",
       "      <td>NaN</td>\n",
       "      <td>NaN</td>\n",
       "      <td>0</td>\n",
       "      <td>9</td>\n",
       "      <td>2008</td>\n",
       "      <td>WD</td>\n",
       "      <td>Normal</td>\n",
       "      <td>223500</td>\n",
       "    </tr>\n",
       "    <tr>\n",
       "      <th>4</th>\n",
       "      <td>70</td>\n",
       "      <td>RL</td>\n",
       "      <td>60.0</td>\n",
       "      <td>9550</td>\n",
       "      <td>Pave</td>\n",
       "      <td>NaN</td>\n",
       "      <td>IR1</td>\n",
       "      <td>Lvl</td>\n",
       "      <td>AllPub</td>\n",
       "      <td>Corner</td>\n",
       "      <td>...</td>\n",
       "      <td>0</td>\n",
       "      <td>NaN</td>\n",
       "      <td>NaN</td>\n",
       "      <td>NaN</td>\n",
       "      <td>0</td>\n",
       "      <td>2</td>\n",
       "      <td>2006</td>\n",
       "      <td>WD</td>\n",
       "      <td>Abnorml</td>\n",
       "      <td>140000</td>\n",
       "    </tr>\n",
       "    <tr>\n",
       "      <th>5</th>\n",
       "      <td>60</td>\n",
       "      <td>RL</td>\n",
       "      <td>84.0</td>\n",
       "      <td>14260</td>\n",
       "      <td>Pave</td>\n",
       "      <td>NaN</td>\n",
       "      <td>IR1</td>\n",
       "      <td>Lvl</td>\n",
       "      <td>AllPub</td>\n",
       "      <td>FR2</td>\n",
       "      <td>...</td>\n",
       "      <td>0</td>\n",
       "      <td>NaN</td>\n",
       "      <td>NaN</td>\n",
       "      <td>NaN</td>\n",
       "      <td>0</td>\n",
       "      <td>12</td>\n",
       "      <td>2008</td>\n",
       "      <td>WD</td>\n",
       "      <td>Normal</td>\n",
       "      <td>250000</td>\n",
       "    </tr>\n",
       "  </tbody>\n",
       "</table>\n",
       "<p>5 rows × 80 columns</p>\n",
       "</div>"
      ],
      "text/plain": [
       "    MSSubClass MSZoning  LotFrontage  LotArea Street Alley LotShape  \\\n",
       "Id                                                                    \n",
       "1           60       RL         65.0     8450   Pave   NaN      Reg   \n",
       "2           20       RL         80.0     9600   Pave   NaN      Reg   \n",
       "3           60       RL         68.0    11250   Pave   NaN      IR1   \n",
       "4           70       RL         60.0     9550   Pave   NaN      IR1   \n",
       "5           60       RL         84.0    14260   Pave   NaN      IR1   \n",
       "\n",
       "   LandContour Utilities LotConfig  ... PoolArea PoolQC Fence MiscFeature  \\\n",
       "Id                                  ...                                     \n",
       "1          Lvl    AllPub    Inside  ...        0    NaN   NaN         NaN   \n",
       "2          Lvl    AllPub       FR2  ...        0    NaN   NaN         NaN   \n",
       "3          Lvl    AllPub    Inside  ...        0    NaN   NaN         NaN   \n",
       "4          Lvl    AllPub    Corner  ...        0    NaN   NaN         NaN   \n",
       "5          Lvl    AllPub       FR2  ...        0    NaN   NaN         NaN   \n",
       "\n",
       "   MiscVal MoSold  YrSold  SaleType  SaleCondition  SalePrice  \n",
       "Id                                                             \n",
       "1        0      2    2008        WD         Normal     208500  \n",
       "2        0      5    2007        WD         Normal     181500  \n",
       "3        0      9    2008        WD         Normal     223500  \n",
       "4        0      2    2006        WD        Abnorml     140000  \n",
       "5        0     12    2008        WD         Normal     250000  \n",
       "\n",
       "[5 rows x 80 columns]"
      ]
     },
     "execution_count": 3,
     "metadata": {},
     "output_type": "execute_result"
    }
   ],
   "source": [
    "train_full = pd.read_csv('train.csv',index_col = 'Id')\n",
    "test_full = pd.read_csv('test.csv',index_col = 'Id')\n",
    "print('train_full size',train_full.shape)\n",
    "print('test_full size',test_full.shape)\n",
    "train_full.head()"
   ]
  },
  {
   "cell_type": "code",
   "execution_count": 4,
   "id": "3bf80a17",
   "metadata": {},
   "outputs": [
    {
     "name": "stdout",
     "output_type": "stream",
     "text": [
      "X_train_full size (1460, 79)\n",
      "y_train size 1460\n",
      "X_test_full size (1459, 79)\n"
     ]
    }
   ],
   "source": [
    "##remove rows have NaN values\n",
    "train_full.dropna(axis = 0,subset = ['SalePrice'],inplace = True)\n",
    "y_train = train_full.SalePrice\n",
    "X_train_full = train_full.drop(['SalePrice'],axis = 1)\n",
    "print('X_train_full size',X_train_full.shape)\n",
    "print('y_train size',len(y_train))\n",
    "##do the same thing for test set\n",
    "X_test = test_full\n",
    "print('X_test_full size',X_test.shape)"
   ]
  },
  {
   "cell_type": "markdown",
   "id": "3e021dc0",
   "metadata": {},
   "source": [
    "## add new features"
   ]
  },
  {
   "cell_type": "code",
   "execution_count": null,
   "id": "cc44405e",
   "metadata": {},
   "outputs": [],
   "source": [
    "# ##manually add more features\n",
    "# ##1st feature\n",
    "# X_train_1 = pd.DataFrame()\n",
    "# X_train_1['LivLotRatio'] = X_train_full['GrLivArea']/X_train_full['LotArea']\n",
    "# X_train_1['Spaciousness'] = (X_train_full['1stFlrSF']+X_train_full['2ndFlrSF'])/X_train_full['TotRmsAbvGrd']\n",
    "# feature_outside = ['WoodDeckSF','OpenPorchSF','EnclosedPorch','3SsnPorch','ScreenPorch']\n",
    "# X_train_1['TotalOutsideSF'] = np.sum(X_train_full[feature_outside],axis = 1)\n",
    "\n",
    "# ##do the same for test set\n",
    "# X_test_1 = pd.DataFrame()\n",
    "# X_test_1['LivLotRatio'] = X_test['GrLivArea']/X_test['LotArea']\n",
    "# X_test_1['Spaciousness'] = (X_test['1stFlrSF']+X_test['2ndFlrSF'])/X_test['TotRmsAbvGrd']\n",
    "# feature_outside = ['WoodDeckSF','OpenPorchSF','EnclosedPorch','3SsnPorch','ScreenPorch']\n",
    "# X_test_1['TotalOutsideSF'] = np.sum(X_test[feature_outside],axis = 1)\n"
   ]
  },
  {
   "cell_type": "code",
   "execution_count": null,
   "id": "785a68a7",
   "metadata": {},
   "outputs": [],
   "source": [
    "# ##2nd feature\n",
    "# X_train_2 = pd.get_dummies(X_train_full['BldgType'],prefix = 'Bldg')\n",
    "# X_train_2 = X_train_2.mul(X_train_full['GrLivArea'],axis = 0)\n",
    "\n",
    "# ##test set\n",
    "# X_test_2 = pd.get_dummies(X_test['BldgType'],prefix = 'Bldg')\n",
    "# X_test_2 = X_test_2.mul(X_test['GrLivArea'],axis = 0)"
   ]
  },
  {
   "cell_type": "code",
   "execution_count": null,
   "id": "728ee78f",
   "metadata": {},
   "outputs": [],
   "source": [
    "# ## 3rd feature\n",
    "# X_train_3 = pd.DataFrame()\n",
    "# feature_porch  =['WoodDeckSF','OpenPorchSF','EnclosedPorch','3SsnPorch','ScreenPorch']\n",
    "# X_train_3['PorchTypes'] = X_train_full[feature_porch].gt(0).sum(axis = 1)\n",
    "# ##test set\n",
    "# X_test_3 = pd.DataFrame()\n",
    "# #feature_porch  =['WoodDeckSF','OpenPorchSF','EnclosedPorch','3SsnPorch','ScreenPorch']\n",
    "# X_test_3['PorchTypes'] = X_test[feature_porch].gt(0).sum(axis = 1)"
   ]
  },
  {
   "cell_type": "code",
   "execution_count": null,
   "id": "8baaa905",
   "metadata": {},
   "outputs": [],
   "source": [
    "# ## 4th feature\n",
    "# X_train_4 = pd.DataFrame()\n",
    "# X_train_4['MedNhbdArea'] = X_train_full.groupby('Neighborhood')['GrLivArea'].transform('median')\n",
    "\n",
    "# ##test set\n",
    "# X_test_4 = pd.DataFrame()\n",
    "# X_test_4['MedNhbdArea'] = X_test.groupby('Neighborhood')['GrLivArea'].transform('median')\n"
   ]
  },
  {
   "cell_type": "code",
   "execution_count": null,
   "id": "906fa92d",
   "metadata": {},
   "outputs": [],
   "source": [
    "# ##add all four features into the training set and test set\n",
    "# X_train_full = X_train_full.join([X_train_1,X_train_2,X_train_3,X_train_4])\n",
    "# X_train_full.head()\n",
    "# ##test set\n",
    "# X_test = X_test.join([X_test_1,X_test_2,X_test_3,X_test_4])\n",
    "# X_test.head()"
   ]
  },
  {
   "cell_type": "markdown",
   "id": "b1bc3991",
   "metadata": {},
   "source": [
    "## get numeric columns and categorical columns"
   ]
  },
  {
   "cell_type": "code",
   "execution_count": 5,
   "id": "82cf75cc",
   "metadata": {},
   "outputs": [
    {
     "name": "stdout",
     "output_type": "stream",
     "text": [
      "categorical columns: \n",
      " 43\n",
      "numeric columns: \n",
      " 36\n",
      "# of columns to keep: \n",
      " 79\n"
     ]
    }
   ],
   "source": [
    "##split columns with only numbers and columns with only categorical variabels\n",
    "col_category = [col for col in X_train_full.columns\n",
    "              if X_train_full[col].dtypes == 'object']\n",
    "\n",
    "col_numeric = [col for col in X_train_full.columns\n",
    "              if X_train_full[col].dtypes in ['int64','float64']]\n",
    "\n",
    "\n",
    "##total number of columns in the final training set\n",
    "col_to_keep = col_category + col_numeric\n",
    "print('categorical columns: \\n',len(col_category))\n",
    "print('numeric columns: \\n',len(col_numeric))\n",
    "print('# of columns to keep: \\n',len(col_to_keep))"
   ]
  },
  {
   "cell_type": "code",
   "execution_count": 6,
   "id": "2e8f68e6",
   "metadata": {},
   "outputs": [],
   "source": [
    "##split training set and validation set\n",
    "X_train,X_valid,y_train,y_valid = train_test_split(X_train_full,y_train,train_size = 0.8,test_size= 0.2,random_state = 0)"
   ]
  },
  {
   "cell_type": "code",
   "execution_count": 7,
   "id": "e05e53fb",
   "metadata": {},
   "outputs": [
    {
     "name": "stdout",
     "output_type": "stream",
     "text": [
      "X_train shape: \n",
      " (1168, 79)\n",
      "X_valid shape: \n",
      " (292, 79)\n",
      "[1168, 292]\n"
     ]
    }
   ],
   "source": [
    "##check size\n",
    "print('X_train shape: \\n',X_train.shape)\n",
    "print('X_valid shape: \\n',X_valid.shape)\n",
    "print([len(y_train),len(y_valid)])"
   ]
  },
  {
   "cell_type": "code",
   "execution_count": 8,
   "id": "24869a25",
   "metadata": {},
   "outputs": [],
   "source": [
    "##get categorical columns of trainset and valid set\n",
    "X_train_category = X_train[col_category]\n",
    "X_valid_category = X_valid[col_category]\n",
    "X_test_category = X_test[col_category]\n",
    "##find columns with good features and columns with bad features\n",
    "##check if all faetures of valid set is consistent with all features of training set\n",
    "good_col_category = [col for col in col_category if \n",
    "                   set(X_valid_category[col]).issubset(set(X_train_category[col]))]\n",
    "bad_col_category = list(set(col_category)-set(good_col_category))\n",
    "##remove bad features for prediction\n",
    "X_train_category = X_train_category.drop(bad_col_category,axis = 1)\n",
    "X_valid_category = X_valid_category.drop(bad_col_category,axis = 1)\n",
    "X_test_category = X_test_category.drop(bad_col_category,axis = 1)"
   ]
  },
  {
   "cell_type": "code",
   "execution_count": 10,
   "id": "2620b640",
   "metadata": {},
   "outputs": [
    {
     "name": "stdout",
     "output_type": "stream",
     "text": [
      "39\n",
      "# of bad features to be removed:  4\n"
     ]
    }
   ],
   "source": [
    "##based on feature check between training set and validation set\n",
    "print(len(good_col_category))\n",
    "print(\"# of bad features to be removed: \",len(bad_col_category))\n",
    "print(X_train_category.shape)\n",
    "print(X_valid_category.shape)\n",
    "print(X_test_category.shape)"
   ]
  },
  {
   "cell_type": "code",
   "execution_count": 13,
   "id": "8d62dead",
   "metadata": {},
   "outputs": [],
   "source": [
    "##after check the validation set, now check the test set\n",
    "good2_col_category = [col for col in good_col_category if\n",
    "                     set(X_test_category[col]).issubset(set(X_train_category[col]))]\n",
    "bad2_col_category = list(set(good_col_category)-set(good2_col_category))\n",
    "##remove bad features\n",
    "X_train_category = X_train_category.drop(bad2_col_category,axis = 1)\n",
    "X_valid_category = X_valid_category.drop(bad2_col_category,axis = 1)\n",
    "X_test_category = X_test_category.drop(bad2_col_category,axis = 1)"
   ]
  },
  {
   "cell_type": "code",
   "execution_count": 14,
   "id": "44108dd0",
   "metadata": {},
   "outputs": [
    {
     "name": "stdout",
     "output_type": "stream",
     "text": [
      "33\n",
      "# of bad features to be removed:  6\n"
     ]
    }
   ],
   "source": [
    "##based on feature check between training set and test set\n",
    "print(len(good2_col_category))\n",
    "print(\"# of bad features to be removed: \",len(bad2_col_category))"
   ]
  },
  {
   "cell_type": "code",
   "execution_count": 16,
   "id": "226aa8e7",
   "metadata": {},
   "outputs": [
    {
     "name": "stdout",
     "output_type": "stream",
     "text": [
      "(1168, 33)\n",
      "(292, 33)\n",
      "(1459, 33)\n"
     ]
    }
   ],
   "source": [
    "## shape\n",
    "print(X_train_category.shape)\n",
    "print(X_valid_category.shape)\n",
    "print(X_test_category.shape)"
   ]
  },
  {
   "cell_type": "code",
   "execution_count": 17,
   "id": "5731df1f",
   "metadata": {},
   "outputs": [],
   "source": [
    "##fill NaN values with most frequent values for categorical variables\n",
    "category_imputer = SimpleImputer(strategy = 'most_frequent')\n",
    "X_train_category_impute = pd.DataFrame(category_imputer.fit_transform(X_train_category[good2_col_category]),\n",
    "                                       index = X_train_category.index)\n",
    "X_valid_category_impute = pd.DataFrame(category_imputer.transform(X_valid_category[good2_col_category]),\n",
    "                                       index = X_valid_category.index)\n",
    "X_test_category_impute = pd.DataFrame(category_imputer.transform(X_test_category[good2_col_category]),\n",
    "                                      index = X_test_category.index)\n",
    "##add column names\n",
    "X_train_category_impute.columns = X_train_category.columns\n",
    "X_valid_category_impute.columns = X_valid_category.columns\n",
    "X_test_category_impute.columns = X_test_category.columns"
   ]
  },
  {
   "cell_type": "code",
   "execution_count": null,
   "id": "afebc668",
   "metadata": {},
   "outputs": [],
   "source": [
    "##note that remvoe the rows of 'Partial' values of the 'SaleCondition' columns does not make predictions more accurate!!!!!!\n",
    "\n",
    "# ##cleaning based on \"SaleCondition\", we should remove rows with \"Partial\" since the transaction actually does not successful\n",
    "# row_drop_salecondition_train = np.where(X_train_category_impute['SaleCondition']=='Partial')\n",
    "# row_drop_salecondition_valid = np.where(X_valid_category_impute['SaleCondition']=='Partial')\n",
    "# #row_drop_salecondition_test = np.where(X_test_category_impute['SaleCondition']=='Partial')\n",
    "# # print(row_drop_salecondition_train)\n",
    "# # print(row_drop_salecondition_valid)\n",
    "# # print(row_drop_salecondition_test)\n",
    "\n",
    "# ##drop these rows for train set adn validation set, but not for test set!!!\n",
    "# X_train_category_impute = X_train_category_impute.drop(row_drop_salecondition_train[0])\n",
    "# X_valid_category_impute = X_valid_category_impute.drop(row_drop_salecondition_valid[0])\n",
    "# print(X_train_category_impute['SaleCondition'].unique())\n",
    "# print(X_valid_category_impute['SaleCondition'].unique())"
   ]
  },
  {
   "cell_type": "code",
   "execution_count": null,
   "id": "e065f1e2",
   "metadata": {},
   "outputs": [],
   "source": [
    "# ##for features with more than 10 unique values, we use ordinal encoding\n",
    "# feature_ordinal = [col for col in good_col_category\n",
    "#                   if X_train_category_impute[col].nunique() > 10]\n",
    "\n",
    "# ordinal_encoder = OrdinalEncoder()\n",
    "# X_train_category_impute[feature_ordinal] = ordinal_encoder.fit_transform(X_train_category_impute[feature_ordinal])\n",
    "# X_valid_category_impute[feature_ordinal] = ordinal_encoder.transform(X_valid_category_impute[feature_ordinal])\n",
    "# X_test_category_impute[feature_ordinal] = ordinal_encoder.transform(X_test_category_impute[feature_ordinal])\n",
    "\n",
    "# ##for categorical features with more than 10 unique values, if we do not use ordianl ecoders, but factorize() function\n",
    "# for col in feature_ordinal:\n",
    "#     X_train_category_impute[col],_ = X_train_category_impute[col].factorize()\n",
    "#     X_valid_category_impute[col],_ = X_valid_category_impute[col].factorize()\n",
    "#     X_test_category_impute[col],_ = X_test_category_impute[col].factorize()"
   ]
  },
  {
   "cell_type": "code",
   "execution_count": 18,
   "id": "734ba27c",
   "metadata": {},
   "outputs": [],
   "source": [
    "##onehot encoder (perform better than ordinal encoding in this case)\n",
    "##!!!!!!!!!!!!!!!!!!!!!!!!!!!!!!!!\n",
    "##we denifintely need to remove bad features!!!!!!!!!!!!!!!!!!!!!!!!!!!!!\n",
    "feature_ordinal = []\n",
    "feature_onehot = list(set(good2_col_category)-set(feature_ordinal))\n",
    "oh_encoder = OneHotEncoder(handle_unknown  ='ignore',sparse = False)\n",
    "X_train_category_impute_oh = pd.DataFrame(oh_encoder.fit_transform(X_train_category_impute[feature_onehot]),\n",
    "                                          index = X_train_category_impute.index)\n",
    "X_valid_category_impute_oh = pd.DataFrame(oh_encoder.transform(X_valid_category_impute[feature_onehot]),\n",
    "                                         index = X_valid_category_impute.index)\n",
    "X_test_category_impute_oh = pd.DataFrame(oh_encoder.transform(X_test_category_impute[feature_onehot]),\n",
    "                                        index = X_test_category_impute.index)\n",
    "\n",
    "X_train_category_impute_oh.index = X_train_category_impute.index\n",
    "X_valid_category_impute_oh.index = X_valid_category_impute.index\n",
    "X_test_category_impute_oh.index = X_test_category_impute.index"
   ]
  },
  {
   "cell_type": "code",
   "execution_count": 19,
   "id": "5c639040",
   "metadata": {},
   "outputs": [
    {
     "name": "stdout",
     "output_type": "stream",
     "text": [
      "shape of numeric columns of training set: \n",
      " (1168, 36)\n",
      "shape of numeric columns of valid set: \n",
      " (292, 36)\n",
      "shape of numeric columns of test set: \n",
      " (1459, 36)\n"
     ]
    }
   ],
   "source": [
    "##deal with numeric columns: fill NaN values with mean vaues of each column\n",
    "X_train_numeric = X_train[col_numeric]\n",
    "X_valid_numeric = X_valid[col_numeric]\n",
    "X_test_numeric = X_test[col_numeric]\n",
    "print('shape of numeric columns of training set: \\n',X_train_numeric.shape)\n",
    "print('shape of numeric columns of valid set: \\n',X_valid_numeric.shape)\n",
    "print('shape of numeric columns of test set: \\n',X_test_numeric.shape)\n",
    "##fill NaN values with means of each column\n",
    "numeric_imputer = SimpleImputer(strategy = 'median')\n",
    "X_train_numeric_impute = pd.DataFrame(numeric_imputer.fit_transform(X_train_numeric),index = X_train_numeric.index)\n",
    "X_valid_numeric_impute = pd.DataFrame(numeric_imputer.transform(X_valid_numeric),index = X_valid_numeric.index)\n",
    "X_test_numeric_impute = pd.DataFrame(numeric_imputer.transform(X_test_numeric),index = X_test_numeric.index)\n",
    "##return names of columns\n",
    "X_train_numeric_impute.columns = X_train_numeric.columns\n",
    "X_valid_numeric_impute.columns = X_valid_numeric.columns\n",
    "X_test_numeric_impute.columns = X_test_numeric.columns"
   ]
  },
  {
   "cell_type": "code",
   "execution_count": 20,
   "id": "dbad3e29",
   "metadata": {},
   "outputs": [],
   "source": [
    "##PCA\n",
    "##PCA can only work for nomrlaized numeric columns\n",
    "##first standardize the faetures\n",
    "X_train_standardized = (X_train_numeric_impute-X_train_numeric_impute.mean(axis = 0))/X_train_numeric_impute.std(axis = 0)\n",
    "X_valid_standardized = (X_valid_numeric_impute-X_valid_numeric_impute.mean(axis = 0))/X_valid_numeric_impute.std(axis = 0)\n",
    "X_test_standardized = (X_test_numeric_impute-X_test_numeric_impute.mean(axis = 0))/X_test_numeric_impute.std(axis = 0)"
   ]
  },
  {
   "cell_type": "code",
   "execution_count": 21,
   "id": "161f79db",
   "metadata": {},
   "outputs": [],
   "source": [
    "##PCA fit\n",
    "pca = PCA()\n",
    "X_train_pca_temp = pca.fit_transform(X_train_standardized)\n",
    "component_names = [f\"PC{i+1}\" for i in range(X_train_pca_temp.shape[1])]\n",
    "X_train_pca = pd.DataFrame(X_train_pca_temp,columns = component_names,index = X_train_standardized.index)\n",
    "X_train_standardized = X_train_standardized.join(X_train_pca,how = 'left')\n",
    "##valid set\n",
    "X_valid_pca_temp = pca.transform(X_valid_standardized)\n",
    "X_valid_pca = pd.DataFrame(X_valid_pca_temp,columns = component_names,index = X_valid_standardized.index)\n",
    "X_valid_standardized = X_valid_standardized.join(X_valid_pca,how = 'left')\n",
    "##test set\n",
    "X_test_pca_temp = pca.transform(X_test_standardized)\n",
    "X_test_pca = pd.DataFrame(X_test_pca_temp,columns = component_names,index = X_test_standardized.index)\n",
    "X_test_standardized = X_test_standardized.join(X_test_pca,how = 'left')\n",
    "## (check if index are match!!!!!!!!!!!!!!!!!!!!!!!!!!!!!!!!!!!!!!!!!!!!!!!!!!)"
   ]
  },
  {
   "cell_type": "code",
   "execution_count": 22,
   "id": "af7a6630",
   "metadata": {},
   "outputs": [
    {
     "data": {
      "text/plain": [
       "array([<AxesSubplot:title={'center':'% Explained Variance'}, xlabel='Component'>,\n",
       "       <AxesSubplot:title={'center':'% Cumulative Variance'}, xlabel='Component'>],\n",
       "      dtype=object)"
      ]
     },
     "execution_count": 22,
     "metadata": {},
     "output_type": "execute_result"
    },
    {
     "data": {
      "image/png": "[encoded data removed]",
      "text/plain": [
       "<Figure size 800x400 with 2 Axes>"
      ]
     },
     "metadata": {
      "needs_background": "light"
     },
     "output_type": "display_data"
    }
   ],
   "source": [
    "plot_variance(pca)"
   ]
  },
  {
   "cell_type": "code",
   "execution_count": 23,
   "id": "25d05ed7",
   "metadata": {},
   "outputs": [],
   "source": [
    "# X_train_model = pd.concat([X_train_numeric_impute,X_train_category_impute_oh],axis = 1)\n",
    "# X_valid_model = pd.concat([X_valid_numeric_impute,X_valid_category_impute_oh],axis = 1)\n",
    "# X_test_model = pd.concat([X_test_numeric_impute,X_test_category_impute_oh],axis = 1)\n",
    "\n",
    "# ##if we use both OneHot encoder and ordinal encoder and also do a PCA\n",
    "# X_train_model = pd.concat([X_train_standardized,X_train_category_impute_oh,X_train_category_impute[feature_ordinal]],axis = 1)\n",
    "# X_valid_model = pd.concat([X_valid_standardized,X_valid_category_impute_oh,X_valid_category_impute[feature_ordinal]],axis = 1)\n",
    "# X_test_model = pd.concat([X_test_standardized,X_test_category_impute_oh,X_test_category_impute[feature_ordinal]],axis = 1)\n",
    "\n",
    "##if we do PCA\n",
    "X_train_model = pd.concat([X_train_standardized,X_train_category_impute_oh],axis = 1)\n",
    "X_valid_model = pd.concat([X_valid_standardized,X_valid_category_impute_oh],axis = 1)\n",
    "X_test_model = pd.concat([X_test_standardized,X_test_category_impute_oh],axis = 1)"
   ]
  },
  {
   "cell_type": "code",
   "execution_count": null,
   "id": "056d26b9",
   "metadata": {},
   "outputs": [],
   "source": [
    "# ##tune the XGBoost hyperparametres\n",
    "# ##define a function to implement the XGBoost algorithm (version without  cross-validation)\n",
    "# sen_n_estimators = np.arange(50,1000,50)\n",
    "# alpha_sen = np.arange(0.01,0.1,0.01)\n",
    "# sen_XGBoost_res = np.zeros((np.arange(50,1000,50).shape[0],np.arange(0.01,0.1,0.01).shape[0]))\n",
    "# def sen_XGBoost(n_estimators,alpha):\n",
    "#     model = XGBRegressor(n_estimators = n_estimators,learning_rate = alpha,n_jobs = 4,random_state = 0)\n",
    "#     model.fit(X_train_model,y_train)\n",
    "#     preds_valid = model.predict(X_valid_model)\n",
    "#     return mean_absolute_error(preds_valid,y_valid)\n",
    "# i = j =0\n",
    "# for i in range(sen_XGBoost_res.shape[0]):\n",
    "#     for j in range(sen_XGBoost_res.shape[1]):\n",
    "#         sen_XGBoost_res[i,j] = sen_XGBoost(sen_n_estimators[i],alpha_sen[j])"
   ]
  },
  {
   "cell_type": "code",
   "execution_count": null,
   "id": "b8449876",
   "metadata": {},
   "outputs": [],
   "source": [
    "# # plt.figure(figsize  = (14,9))\n",
    "# # plt.plot(sen_n_estimators,sen_XGBoost_res)\n",
    "# np.argmin(sen_XGBoost_res)\n",
    "# np.where(sen_XGBoost_res==sen_XGBoost_res.min())\n",
    "# sen_XGBoost_res[2,5]\n",
    "# print([sen_n_estimators[2],alpha_sen[5]])"
   ]
  },
  {
   "cell_type": "code",
   "execution_count": 24,
   "id": "db060c43",
   "metadata": {},
   "outputs": [],
   "source": [
    "##5-fold cross-validation\n",
    "X_train_model['SalePrice'] = y_train\n",
    "X_valid_model['SalePrice'] = y_valid\n",
    "X_full_model = pd.concat([X_train_model,X_valid_model],axis = 0)\n",
    "X_full_model_cv = X_full_model.copy()\n",
    "y_full_model_cv  =X_full_model_cv.pop('SalePrice')"
   ]
  },
  {
   "cell_type": "code",
   "execution_count": 25,
   "id": "4f35b7c6",
   "metadata": {},
   "outputs": [
    {
     "name": "stdout",
     "output_type": "stream",
     "text": [
      "Time elapse: 500.1300633999999\n"
     ]
    },
    {
     "data": {
      "text/plain": [
       "array([[68313.14297009, 28606.88444456, 18078.84187446, 16171.64517605,\n",
       "        15716.43901167, 15649.54412725, 15650.39370452, 15637.29728168,\n",
       "        15611.70777772],\n",
       "       [28883.19144371, 16068.0006555 , 15660.12790828, 15597.39284033,\n",
       "        15474.98461045, 15549.08637093, 15582.08504923, 15576.40702857,\n",
       "        15580.39715593],\n",
       "       [18119.69335135, 15604.76731057, 15590.26535477, 15540.60556774,\n",
       "        15460.23301851, 15577.91779217, 15578.17063356, 15585.42380405,\n",
       "        15590.8248796 ],\n",
       "       [16139.12971961, 15536.58862104, 15556.56516749, 15548.50034782,\n",
       "        15475.66323844, 15580.98007812, 15570.49355201, 15593.46789651,\n",
       "        15587.21680758],\n",
       "       [15772.27292915, 15480.45120131, 15557.75658711, 15559.2367348 ,\n",
       "        15471.00585402, 15576.43964576, 15567.32138271, 15593.89252461,\n",
       "        15587.14922143],\n",
       "       [15640.1301905 , 15454.65550086, 15549.82920056, 15570.92618793,\n",
       "        15468.93690871, 15579.13725653, 15568.22230843, 15593.67572774,\n",
       "        15586.67660263],\n",
       "       [15590.57770494, 15445.20551691, 15552.23759097, 15578.05645601,\n",
       "        15472.19728168, 15580.62497057, 15568.7122271 , 15593.24369381,\n",
       "        15586.26911119],\n",
       "       [15557.80400792, 15449.25570687, 15554.29210456, 15582.15708208,\n",
       "        15472.04836526, 15581.00332299, 15569.26594874, 15593.15035852,\n",
       "        15586.08283658],\n",
       "       [15540.42907748, 15443.68299979, 15554.94236676, 15584.12976241,\n",
       "        15471.49988228, 15581.36794467, 15569.34002301, 15593.22911494,\n",
       "        15585.97888485]])"
      ]
     },
     "execution_count": 25,
     "metadata": {},
     "output_type": "execute_result"
    }
   ],
   "source": [
    "import timeit\n",
    "begin = timeit.default_timer()\n",
    "# sen_n_estimators = np.arange(100,1000,100)\n",
    "# alpha_sen = np.arange(0.01,0.1,0.01)\n",
    "sen_n_estimators = np.arange(100,1000,100)\n",
    "alpha_sen = np.arange(0.01,0.1,0.01)\n",
    "sen_scores = np.zeros((sen_n_estimators.shape[0],alpha_sen.shape[0]))\n",
    "for i in range(sen_n_estimators.shape[0]):\n",
    "    for j in range(alpha_sen.shape[0]):\n",
    "        model_XGB = XGBRegressor(n_estimators = sen_n_estimators[i],learning_rate = alpha_sen[j],random_state = 0)\n",
    "        sen_scores[i,j] = np.mean(-1*cross_val_score(model_XGB,X_full_model_cv,y_full_model_cv,cv = 5,\n",
    "                                                     scoring = 'neg_mean_absolute_error'))\n",
    "end = timeit.default_timer()\n",
    "print('Time elapse:',end-begin)\n",
    "sen_scores\n",
    "# ##define a fucntion to conduct 5-fold cross-validation\n",
    "# scores = -1*cross_val_score(model_XGB,X_full_model_cv,y_full_model_cv,cv = 5,scoring = 'neg_mean_absolute_error',\n",
    "#                            n_jobs = 4)"
   ]
  },
  {
   "cell_type": "code",
   "execution_count": 28,
   "id": "b7a44c37",
   "metadata": {},
   "outputs": [
    {
     "name": "stdout",
     "output_type": "stream",
     "text": [
      "15443.682999785957\n",
      "(array([8], dtype=int64), array([1], dtype=int64))\n",
      "Minimum MAE =  [15443.68299979]\n",
      "n_estimators =  900\n",
      "alpha =  0.02\n"
     ]
    }
   ],
   "source": [
    "##plot the sensitivity analysis results\n",
    "print(np.min(sen_scores))\n",
    "print(np.where(sen_scores==np.min(sen_scores)))\n",
    "print(\"Minimum MAE = \",sen_scores[np.where(sen_scores==np.min(sen_scores))])\n",
    "print(\"n_estimators = \",sen_n_estimators[8])\n",
    "print(\"alpha = \",alpha_sen[1])"
   ]
  },
  {
   "cell_type": "code",
   "execution_count": 26,
   "id": "44e24286",
   "metadata": {},
   "outputs": [
    {
     "data": {
      "text/plain": [
       "<mpl_toolkits.mplot3d.art3d.Poly3DCollection at 0x1faf4594b20>"
      ]
     },
     "execution_count": 26,
     "metadata": {},
     "output_type": "execute_result"
    },
    {
     "data": {
      "image/png": "[encoded data removed]",
      "text/plain": [
       "<Figure size 720x432 with 1 Axes>"
      ]
     },
     "metadata": {
      "needs_background": "light"
     },
     "output_type": "display_data"
    }
   ],
   "source": [
    "##plot in a 2D surface curve\n",
    "fig = plt.figure(figsize=(10,6))\n",
    "ax = fig.add_subplot(1,1,1,projection = '3d')\n",
    "ax.plot_surface(sen_n_estimators,alpha_sen,sen_scores)"
   ]
  },
  {
   "cell_type": "code",
   "execution_count": 29,
   "id": "1c394bb1",
   "metadata": {},
   "outputs": [
    {
     "name": "stdout",
     "output_type": "stream",
     "text": [
      "Time elapse: 10.131760299999996\n"
     ]
    },
    {
     "data": {
      "text/plain": [
       "[15443.682999785957]"
      ]
     },
     "execution_count": 29,
     "metadata": {},
     "output_type": "execute_result"
    }
   ],
   "source": [
    "##plot the parameter tuning results\n",
    "##candidate combination: (400,0.03)\n",
    "import timeit\n",
    "begin = timeit.default_timer()\n",
    "sen_n_estimators = 900\n",
    "alpha_sen = 0.02\n",
    "sen_scores = []\n",
    "model_XGB = XGBRegressor(n_estimators = sen_n_estimators,learning_rate = alpha_sen,random_state = 0)\n",
    "sen_scores.append(np.mean(-1*cross_val_score(model_XGB,X_full_model_cv,y_full_model_cv,cv = 5,\n",
    "                                                     scoring = 'neg_mean_absolute_error')))\n",
    "end = timeit.default_timer()\n",
    "print('Time elapse:',end-begin)\n",
    "sen_scores"
   ]
  },
  {
   "cell_type": "code",
   "execution_count": null,
   "id": "6e829308",
   "metadata": {},
   "outputs": [],
   "source": [
    "# np.where(sen_scores.min()==sen_scores)\n",
    "# sen_scores[18,1]\n",
    "# sen_n_estimators[18]"
   ]
  },
  {
   "cell_type": "code",
   "execution_count": 30,
   "id": "0b3e1ebe",
   "metadata": {},
   "outputs": [],
   "source": [
    "##combine tain adn valid\n",
    "X_train_submit = pd.concat([X_train_model,X_valid_model],axis = 0)\n",
    "y_train_submit = y_train.append(y_valid)"
   ]
  },
  {
   "cell_type": "code",
   "execution_count": 31,
   "id": "05ff531c",
   "metadata": {},
   "outputs": [],
   "source": [
    "##XGBoost\n",
    "##(400,0.03)\n",
    "model2 = XGBRegressor(n_estimators = 900,learning_rate = 0.02,n_jobs = 4,random_state = 0)\n",
    "model2.fit(X_full_model_cv,y_full_model_cv)\n",
    "preds_test = model2.predict(X_test_model)\n",
    "output = pd.DataFrame({'Id': X_test.index,\n",
    "                       'SalePrice': preds_test})\n",
    "output.to_csv('submission.csv', index=False)"
   ]
  },
  {
   "cell_type": "code",
   "execution_count": null,
   "id": "7181567b",
   "metadata": {},
   "outputs": [],
   "source": []
  }
 ],
 "metadata": {
  "kernelspec": {
   "display_name": "Python 3",
   "language": "python",
   "name": "python3"
  },
  "language_info": {
   "codemirror_mode": {
    "name": "ipython",
    "version": 3
   },
   "file_extension": ".py",
   "mimetype": "text/x-python",
   "name": "python",
   "nbconvert_exporter": "python",
   "pygments_lexer": "ipython3",
   "version": "3.8.8"
  }
 },
 "nbformat": 4,
 "nbformat_minor": 5
}
